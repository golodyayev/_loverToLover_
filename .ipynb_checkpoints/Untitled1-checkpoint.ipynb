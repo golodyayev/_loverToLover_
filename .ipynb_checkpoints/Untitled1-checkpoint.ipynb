{
 "cells": [
  {
   "cell_type": "code",
   "execution_count": 7,
   "metadata": {},
   "outputs": [],
   "source": [
    "from vk_class import server , user_vk, vk_df\n",
    "from tockens import tocken_vk"
   ]
  },
  {
   "cell_type": "code",
   "execution_count": 17,
   "metadata": {},
   "outputs": [],
   "source": [
    "import numpy as np\n",
    "from time import sleep\n",
    "\n",
    "vk = server(tocken_vk)\n",
    "\n",
    "user = user_vk(154502531)\n"
   ]
  },
  {
   "cell_type": "code",
   "execution_count": null,
   "metadata": {},
   "outputs": [],
   "source": [
    "keyboard_start = VkKeyboard(one_time=True)\n",
    "keyboard_start.add_button('Join', color=VkKeyboardColor.PRIMARY)\n",
    "keyboard_start.add_button('Generate', color=VkKeyboardColor.POSITIVE)\n"
   ]
  },
  {
   "cell_type": "code",
   "execution_count": 31,
   "metadata": {},
   "outputs": [],
   "source": [
    "def find_bool(bl):\n",
    "    for idx, i in enumerate(bl):\n",
    "        if i:\n",
    "            return (idx)\n",
    "        "
   ]
  },
  {
   "cell_type": "code",
   "execution_count": 32,
   "metadata": {},
   "outputs": [
    {
     "name": "stdout",
     "output_type": "stream",
     "text": [
      "/start\n",
      "0\n"
     ]
    }
   ],
   "source": [
    "user.read()\n",
    "first = np.array(user.df.loc[user.df.stat == 0, \"msg\"][0])\n",
    "print (first)\n",
    "bl = (user.df.stat == 0)\n",
    "print(find_bool(bl))"
   ]
  },
  {
   "cell_type": "code",
   "execution_count": 27,
   "metadata": {},
   "outputs": [],
   "source": [
    "if first == \"/start\":\n",
    "    vk.send_message(user.id,\"привет ты красавчик, ща все будет чики пуки\", keyboard_start)\n",
    "    \n",
    "if first == \"Join\":"
   ]
  },
  {
   "cell_type": "code",
   "execution_count": 29,
   "metadata": {},
   "outputs": [
    {
     "name": "stdout",
     "output_type": "stream",
     "text": [
      "0\n"
     ]
    }
   ],
   "source": []
  },
  {
   "cell_type": "code",
   "execution_count": null,
   "metadata": {},
   "outputs": [],
   "source": []
  },
  {
   "cell_type": "code",
   "execution_count": null,
   "metadata": {},
   "outputs": [],
   "source": []
  },
  {
   "cell_type": "code",
   "execution_count": null,
   "metadata": {},
   "outputs": [],
   "source": []
  }
 ],
 "metadata": {
  "kernelspec": {
   "display_name": "Python 3",
   "language": "python",
   "name": "python3"
  },
  "language_info": {
   "codemirror_mode": {
    "name": "ipython",
    "version": 3
   },
   "file_extension": ".py",
   "mimetype": "text/x-python",
   "name": "python",
   "nbconvert_exporter": "python",
   "pygments_lexer": "ipython3",
   "version": "3.7.2"
  }
 },
 "nbformat": 4,
 "nbformat_minor": 2
}
