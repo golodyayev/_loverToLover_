{
 "cells": [
  {
   "cell_type": "code",
   "execution_count": 7,
   "metadata": {},
   "outputs": [],
   "source": [
    "from vk_class import server , user_vk, vk_df\n",
    "from tockens import tocken_vk"
   ]
  },
  {
   "cell_type": "code",
   "execution_count": 37,
   "metadata": {},
   "outputs": [],
   "source": [
    "import numpy as np\n",
    "from time import sleep\n",
    "\n",
    "vk = server(tocken_vk)\n",
    "\n",
    "user = user_vk(154502531)\n"
   ]
  },
  {
   "cell_type": "code",
   "execution_count": null,
   "metadata": {},
   "outputs": [],
   "source": [
    "keyboard_start = VkKeyboard(one_time=True)\n",
    "keyboard_start.add_button('Join', color=VkKeyboardColor.PRIMARY)\n",
    "keyboard_start.add_button('Generate', color=VkKeyboardColor.POSITIVE)\n"
   ]
  },
  {
   "cell_type": "code",
   "execution_count": null,
   "metadata": {},
   "outputs": [],
   "source": [
    "keyboard_generate = VkKeyboard(one_time=True)\n",
    "keyboard_generate.add_button('Прислать код', color=VkKeyboardColor.PRIMARY)\n",
    "\n",
    "keyboard_start = VkKeyboard(one_time=True)\n",
    "keyboard_start.add_button('Начать', color=VkKeyboardColor.PRIMARY)"
   ]
  },
  {
   "cell_type": "code",
   "execution_count": 35,
   "metadata": {},
   "outputs": [],
   "source": [
    "def find_bool(bl):\n",
    "    for idx, i in enumerate(bl):\n",
    "        if i:\n",
    "            return (idx)\n",
    "        "
   ]
  },
  {
   "cell_type": "code",
   "execution_count": 39,
   "metadata": {},
   "outputs": [
    {
     "name": "stdout",
     "output_type": "stream",
     "text": [
      "/start\n",
      "6\n"
     ]
    }
   ],
   "source": [
    "user.read()\n",
    "first = np.array(user.df.loc[user.df.stat == 0, \"msg\"])[0]\n",
    "print (first)\n",
    "bl = (user.df.stat == 0)\n",
    "print(find_bool(bl))"
   ]
  },
  {
   "cell_type": "code",
   "execution_count": 27,
   "metadata": {},
   "outputs": [],
   "source": [
    "if first == \"/start\":\n",
    "    vk.send_message(user.id,\"привет ты красавчик, ща все будет чики пуки\", keyboard_start)\n",
    "    \n",
    "elif first == \"Generate\":\n",
    "    vk.send_message(user.id,\"правила игры\", keyboard_generate)\n",
    "\n",
    "elif first == \"Прислать код\":\n",
    "    vk.send_message(user.id,\"отправь код и жди\", keyboard_start)\n",
    "   \n",
    "\n",
    "elif first == \"Join\":\n",
    "    vk.send_message(user.id,\"отправь код и жди\", keyboard_generate)\n",
    "\n",
    "\n"
   ]
  },
  {
   "cell_type": "code",
   "execution_count": 29,
   "metadata": {},
   "outputs": [
    {
     "name": "stdout",
     "output_type": "stream",
     "text": [
      "0\n"
     ]
    }
   ],
   "source": []
  },
  {
   "cell_type": "code",
   "execution_count": 1,
   "metadata": {},
   "outputs": [],
   "source": [
    "from class2 import COUPLE_DF,questions , data,Current_day\n"
   ]
  },
  {
   "cell_type": "code",
   "execution_count": 2,
   "metadata": {},
   "outputs": [],
   "source": [
    "couple = COUPLE_DF()"
   ]
  },
  {
   "cell_type": "code",
   "execution_count": 3,
   "metadata": {},
   "outputs": [],
   "source": [
    "couple.read()"
   ]
  },
  {
   "cell_type": "code",
   "execution_count": 4,
   "metadata": {},
   "outputs": [
    {
     "data": {
      "text/html": [
       "<div>\n",
       "<style scoped>\n",
       "    .dataframe tbody tr th:only-of-type {\n",
       "        vertical-align: middle;\n",
       "    }\n",
       "\n",
       "    .dataframe tbody tr th {\n",
       "        vertical-align: top;\n",
       "    }\n",
       "\n",
       "    .dataframe thead th {\n",
       "        text-align: right;\n",
       "    }\n",
       "</style>\n",
       "<table border=\"1\" class=\"dataframe\">\n",
       "  <thead>\n",
       "    <tr style=\"text-align: right;\">\n",
       "      <th></th>\n",
       "      <th>couple_id</th>\n",
       "      <th>user_id1</th>\n",
       "      <th>user_id2</th>\n",
       "      <th>key</th>\n",
       "      <th>active</th>\n",
       "    </tr>\n",
       "  </thead>\n",
       "  <tbody>\n",
       "    <tr>\n",
       "      <th>0</th>\n",
       "      <td>couple_0</td>\n",
       "      <td>vk_154502531</td>\n",
       "      <td>NaN</td>\n",
       "      <td>key_7ec993ac-1c2</td>\n",
       "      <td>0</td>\n",
       "    </tr>\n",
       "    <tr>\n",
       "      <th>1</th>\n",
       "      <td>couple_0</td>\n",
       "      <td>tg_245709644</td>\n",
       "      <td>vk_154502531</td>\n",
       "      <td>key_c1900f4a-1c2</td>\n",
       "      <td>1</td>\n",
       "    </tr>\n",
       "  </tbody>\n",
       "</table>\n",
       "</div>"
      ],
      "text/plain": [
       "  couple_id      user_id1      user_id2               key  active\n",
       "0  couple_0  vk_154502531           NaN  key_7ec993ac-1c2       0\n",
       "1  couple_0  tg_245709644  vk_154502531  key_c1900f4a-1c2       1"
      ]
     },
     "execution_count": 4,
     "metadata": {},
     "output_type": "execute_result"
    }
   ],
   "source": [
    "couple.df"
   ]
  },
  {
   "cell_type": "code",
   "execution_count": 6,
   "metadata": {},
   "outputs": [
    {
     "data": {
      "text/plain": [
       "1"
      ]
     },
     "execution_count": 6,
     "metadata": {},
     "output_type": "execute_result"
    }
   ],
   "source": [
    "couple.cheker(\"key_7ec993ac-1c2\")"
   ]
  },
  {
   "cell_type": "code",
   "execution_count": 10,
   "metadata": {},
   "outputs": [
    {
     "data": {
      "text/plain": [
       "'dgfdsf'"
      ]
     },
     "execution_count": 10,
     "metadata": {},
     "output_type": "execute_result"
    }
   ],
   "source": [
    "\"fs_dgfdsf\"[3:]"
   ]
  },
  {
   "cell_type": "code",
   "execution_count": null,
   "metadata": {},
   "outputs": [],
   "source": []
  }
 ],
 "metadata": {
  "kernelspec": {
   "display_name": "Python 3",
   "language": "python",
   "name": "python3"
  },
  "language_info": {
   "codemirror_mode": {
    "name": "ipython",
    "version": 3
   },
   "file_extension": ".py",
   "mimetype": "text/x-python",
   "name": "python",
   "nbconvert_exporter": "python",
   "pygments_lexer": "ipython3",
   "version": "3.7.2"
  }
 },
 "nbformat": 4,
 "nbformat_minor": 2
}
