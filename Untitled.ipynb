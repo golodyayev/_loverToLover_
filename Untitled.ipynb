{
 "cells": [
  {
   "cell_type": "code",
   "execution_count": 241,
   "metadata": {},
   "outputs": [],
   "source": [
    "\n",
    "from class2 import COUPLE_DF,questions, data\n",
    "import pandas as pd\n",
    "import ast\n"
   ]
  },
  {
   "cell_type": "code",
   "execution_count": 273,
   "metadata": {},
   "outputs": [],
   "source": [
    "\n",
    "class Current_day:\n",
    "\n",
    "    def __init__(self):\n",
    "        self.df = pd.DataFrame(columns=[\"couple_id\", \"QUESTIONS\", \"user_id1\", \"user_id2\", \"key\", \"1_1\", \"2_1\", \"3_1\", \"4_1\", \"5_1\",\"1_2\", \"2_2\", \"3_2\", \"4_2\", \"5_2\"])\n",
    "        self.s4et4ik = len(self.df)\n",
    "    def clear(self):\n",
    "        self.df = pd.DataFrame(columns=[\"couple_id\", \"QUESTIONS\", \"user_id1\", \"user_id2\", \"key\", \"1_1\", \"2_1\", \"3_1\", \"4_1\", \"5_1\",\"1_2\", \"2_2\", \"3_2\", \"4_2\", \"5_2\"])\n",
    "    def us_append_couples(self, COUPLE):\n",
    "\n",
    "        self.df[[\"couple_id\", \"user_id1\", \"user_id2\", \"key\"]] = COUPLE\n",
    "        # return (self)\n",
    "\n",
    "    def us_append_question(self, couple_id, key, array):\n",
    "        self.df.loc[self.df.key == key, \"QUESTIONS\"] = str(array)\n",
    "\n",
    "    def us_append(self, user_id, question, mark):\n",
    "\n",
    "        print( len( self.df.loc[ self.df.user_id1 == user_id ] ) )\n",
    "\n",
    "\n",
    "    def us_append_feedback(self, user_id, question, mark):\n",
    "        if len(self.df.loc[self.df.user_id1 == user_id]) > 0:\n",
    "            stolb = str(question+\"_1\")\n",
    "            self.df.loc[self.df.user_id1 == user_id, stolb] = mark\n",
    "\n",
    "        if len(self.df.loc[self.df.user_id2 == user_id]) > 0:\n",
    "            stolb = str(question+\"_2\")\n",
    "            self.df.loc[self.df.user_id2 == user_id, stolb] = mark\n",
    "\n",
    "            \n",
    "    def print(self):\n",
    "        print(self.df.head())\n",
    "\n",
    "    def read(self):\n",
    "        try:\n",
    "            self.df = pd.read_csv(\"CURRENT_DAY.csv\")[\n",
    "                [\"couple_id\", \"QUESTIONS\", \"user_id1\", \"user_id2\", \"key\", \"1_1\", \"2_1\", \"3_1\", \"4_1\", \"5_1\",\"1_2\", \"2_2\", \"3_2\", \"4_2\", \"5_2\"]]\n",
    "        except:\n",
    "            return (\"\")\n",
    "    \n",
    "    def extract(self):\n",
    "        data = pd.DataFrame(columns=[\"couple_id\", \"key\", \"number\"])\n",
    "        Y = self.df[[\"1_1\", \"2_1\", \"3_1\", \"4_1\", \"5_1\",\"1_2\", \"2_2\", \"3_2\", \"4_2\", \"5_2\"]]\n",
    "        Y = Y.fillna(0)\n",
    "        for i in range(len(Y)):\n",
    "            x1 = Y.loc[i][\"1_1\"] + Y.loc[i][\"1_2\"] \n",
    "            x2 = Y.loc[i][\"2_1\"] + Y.loc[i][\"2_2\"] \n",
    "            x3 = Y.loc[i][\"3_1\"] + Y.loc[i][\"3_2\"] \n",
    "            x4 = Y.loc[i][\"4_1\"] + Y.loc[i][\"4_2\"] \n",
    "            x5 = Y.loc[i][\"5_1\"] + Y.loc[i][\"5_2\"] \n",
    "            \n",
    "            testarray = ast.literal_eval(self.df.loc[i,\"QUESTIONS\"])\n",
    "\n",
    "          \n",
    "            if x1 >= max([x2,x3,x4,x5]):\n",
    "                number = testarray[1]\n",
    "            elif x2 >= max([x1,x3,x4,x5]):\n",
    "                number = testarray[2]            \n",
    "            elif x3 >= max([x2,x1,x4,x5]):\n",
    "                number = testarray[3]\n",
    "            elif x4 >= max([x2,x1,x3,x5]):\n",
    "                number = testarray[4]\n",
    "            elif x5 >= max([x2,x1,x3,x4]):\n",
    "                number = testarray[5]\n",
    "                \n",
    "            data.loc[i]= [self.df.loc[i,\"couple_id\"],self.df.loc[i,\"key\"], number]\n",
    "        return(data)\n",
    "    \n",
    "    def write(self):\n",
    "        self.df.to_csv(\"CURRENT_DAY.csv\")\n",
    "\n",
    "        \n",
    "        \n",
    "        \n",
    "        \n",
    "        \n"
   ]
  },
  {
   "cell_type": "code",
   "execution_count": 274,
   "metadata": {},
   "outputs": [
    {
     "data": {
      "text/html": [
       "<div>\n",
       "<style scoped>\n",
       "    .dataframe tbody tr th:only-of-type {\n",
       "        vertical-align: middle;\n",
       "    }\n",
       "\n",
       "    .dataframe tbody tr th {\n",
       "        vertical-align: top;\n",
       "    }\n",
       "\n",
       "    .dataframe thead th {\n",
       "        text-align: right;\n",
       "    }\n",
       "</style>\n",
       "<table border=\"1\" class=\"dataframe\">\n",
       "  <thead>\n",
       "    <tr style=\"text-align: right;\">\n",
       "      <th></th>\n",
       "      <th>couple_id</th>\n",
       "      <th>QUESTIONS</th>\n",
       "      <th>user_id1</th>\n",
       "      <th>user_id2</th>\n",
       "      <th>key</th>\n",
       "      <th>1_1</th>\n",
       "      <th>2_1</th>\n",
       "      <th>3_1</th>\n",
       "      <th>4_1</th>\n",
       "      <th>5_1</th>\n",
       "      <th>1_2</th>\n",
       "      <th>2_2</th>\n",
       "      <th>3_2</th>\n",
       "      <th>4_2</th>\n",
       "      <th>5_2</th>\n",
       "    </tr>\n",
       "  </thead>\n",
       "  <tbody>\n",
       "  </tbody>\n",
       "</table>\n",
       "</div>"
      ],
      "text/plain": [
       "Empty DataFrame\n",
       "Columns: [couple_id, QUESTIONS, user_id1, user_id2, key, 1_1, 2_1, 3_1, 4_1, 5_1, 1_2, 2_2, 3_2, 4_2, 5_2]\n",
       "Index: []"
      ]
     },
     "execution_count": 274,
     "metadata": {},
     "output_type": "execute_result"
    }
   ],
   "source": [
    "current = Current_day()\n",
    "current.df"
   ]
  },
  {
   "cell_type": "code",
   "execution_count": 275,
   "metadata": {},
   "outputs": [
    {
     "name": "stdout",
     "output_type": "stream",
     "text": [
      "  couple_id             QUESTIONS   user_id1   user_id2            key  1_1  \\\n",
      "0  couple_0  [16, 11, 25, 24, 16]  149980796  245709644  key_149980796  NaN   \n",
      "1  couple_0  [16, 11, 25, 24, 16]  149980796  245709644  key_149980796  NaN   \n",
      "\n",
      "   2_1  3_1  4_1  5_1  1_2  2_2  3_2  4_2  5_2  \n",
      "0  NaN  NaN  NaN  NaN  5.0  7.0  NaN  5.0  NaN  \n",
      "1  NaN  NaN  NaN  NaN  5.0  1.0  NaN  5.0  NaN  \n"
     ]
    }
   ],
   "source": [
    "current.read()\n",
    "current.print()"
   ]
  },
  {
   "cell_type": "code",
   "execution_count": 276,
   "metadata": {},
   "outputs": [],
   "source": [
    "current.us_append_feedback(245709644, \"4\", 5)\n",
    "\n",
    "\n",
    "\n"
   ]
  },
  {
   "cell_type": "code",
   "execution_count": 277,
   "metadata": {},
   "outputs": [
    {
     "name": "stdout",
     "output_type": "stream",
     "text": [
      "  couple_id             QUESTIONS   user_id1   user_id2            key  1_1  \\\n",
      "0  couple_0  [16, 11, 25, 24, 16]  149980796  245709644  key_149980796  NaN   \n",
      "1  couple_0  [16, 11, 25, 24, 16]  149980796  245709644  key_149980796  NaN   \n",
      "\n",
      "   2_1  3_1  4_1  5_1  1_2  2_2  3_2  4_2  5_2  \n",
      "0  NaN  NaN  NaN  NaN  5.0  7.0  NaN  5.0  NaN  \n",
      "1  NaN  NaN  NaN  NaN  5.0  1.0  NaN  5.0  NaN  \n"
     ]
    }
   ],
   "source": [
    "\n",
    "current.write()\n",
    "current.print()"
   ]
  },
  {
   "cell_type": "code",
   "execution_count": 278,
   "metadata": {},
   "outputs": [
    {
     "data": {
      "text/html": [
       "<div>\n",
       "<style scoped>\n",
       "    .dataframe tbody tr th:only-of-type {\n",
       "        vertical-align: middle;\n",
       "    }\n",
       "\n",
       "    .dataframe tbody tr th {\n",
       "        vertical-align: top;\n",
       "    }\n",
       "\n",
       "    .dataframe thead th {\n",
       "        text-align: right;\n",
       "    }\n",
       "</style>\n",
       "<table border=\"1\" class=\"dataframe\">\n",
       "  <thead>\n",
       "    <tr style=\"text-align: right;\">\n",
       "      <th></th>\n",
       "      <th>couple_id</th>\n",
       "      <th>key</th>\n",
       "      <th>number</th>\n",
       "    </tr>\n",
       "  </thead>\n",
       "  <tbody>\n",
       "    <tr>\n",
       "      <th>0</th>\n",
       "      <td>couple_0</td>\n",
       "      <td>key_149980796</td>\n",
       "      <td>25</td>\n",
       "    </tr>\n",
       "    <tr>\n",
       "      <th>1</th>\n",
       "      <td>couple_0</td>\n",
       "      <td>key_149980796</td>\n",
       "      <td>11</td>\n",
       "    </tr>\n",
       "  </tbody>\n",
       "</table>\n",
       "</div>"
      ],
      "text/plain": [
       "  couple_id            key number\n",
       "0  couple_0  key_149980796     25\n",
       "1  couple_0  key_149980796     11"
      ]
     },
     "execution_count": 278,
     "metadata": {},
     "output_type": "execute_result"
    }
   ],
   "source": [
    "current.extract()"
   ]
  },
  {
   "cell_type": "code",
   "execution_count": 291,
   "metadata": {},
   "outputs": [
    {
     "name": "stdout",
     "output_type": "stream",
     "text": [
      "36\n"
     ]
    }
   ],
   "source": [
    "\n",
    "import datetime\n",
    "\n",
    "print(int(datetime.datetime.now().strftime('%M')))\n"
   ]
  },
  {
   "cell_type": "code",
   "execution_count": 292,
   "metadata": {},
   "outputs": [
    {
     "data": {
      "text/plain": [
       "1"
      ]
     },
     "execution_count": 292,
     "metadata": {},
     "output_type": "execute_result"
    }
   ],
   "source": [
    "35%2"
   ]
  },
  {
   "cell_type": "code",
   "execution_count": null,
   "metadata": {},
   "outputs": [],
   "source": []
  },
  {
   "cell_type": "code",
   "execution_count": null,
   "metadata": {},
   "outputs": [],
   "source": []
  },
  {
   "cell_type": "code",
   "execution_count": null,
   "metadata": {},
   "outputs": [],
   "source": []
  },
  {
   "cell_type": "code",
   "execution_count": null,
   "metadata": {},
   "outputs": [],
   "source": []
  },
  {
   "cell_type": "code",
   "execution_count": null,
   "metadata": {},
   "outputs": [],
   "source": []
  }
 ],
 "metadata": {
  "kernelspec": {
   "display_name": "Python 3",
   "language": "python",
   "name": "python3"
  },
  "language_info": {
   "codemirror_mode": {
    "name": "ipython",
    "version": 3
   },
   "file_extension": ".py",
   "mimetype": "text/x-python",
   "name": "python",
   "nbconvert_exporter": "python",
   "pygments_lexer": "ipython3",
   "version": "3.7.0"
  }
 },
 "nbformat": 4,
 "nbformat_minor": 2
}
